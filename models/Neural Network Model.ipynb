{
 "cells": [
  {
   "cell_type": "markdown",
   "id": "based-liability",
   "metadata": {},
   "source": [
    "# Performing the Neural Network Model\n"
   ]
  },
  {
   "cell_type": "markdown",
   "id": "personalized-newport",
   "metadata": {},
   "source": [
    "Creating the Neural Network model and measuring the performance of the model. We have already performed the data exploring in the Random Forest notebook. We will proceed with exporting the dataset and training and testing the model. "
   ]
  },
  {
   "cell_type": "markdown",
   "id": "sunset-squad",
   "metadata": {},
   "source": [
    "## Importing libraries and exporting data"
   ]
  },
  {
   "cell_type": "code",
   "execution_count": 1,
   "id": "accepted-pickup",
   "metadata": {},
   "outputs": [],
   "source": [
    "import numpy as np\n",
    "import pandas as pd\n",
    "import seaborn as sns\n",
    "import matplotlib.pyplot as plt\n",
    "import os"
   ]
  },
  {
   "cell_type": "code",
   "execution_count": 2,
   "id": "comic-sixth",
   "metadata": {},
   "outputs": [
    {
     "data": {
      "text/html": [
       "<div>\n",
       "<style scoped>\n",
       "    .dataframe tbody tr th:only-of-type {\n",
       "        vertical-align: middle;\n",
       "    }\n",
       "\n",
       "    .dataframe tbody tr th {\n",
       "        vertical-align: top;\n",
       "    }\n",
       "\n",
       "    .dataframe thead th {\n",
       "        text-align: right;\n",
       "    }\n",
       "</style>\n",
       "<table border=\"1\" class=\"dataframe\">\n",
       "  <thead>\n",
       "    <tr style=\"text-align: right;\">\n",
       "      <th></th>\n",
       "      <th>Unnamed: 0</th>\n",
       "      <th>Home</th>\n",
       "      <th>Away</th>\n",
       "      <th>OU</th>\n",
       "      <th>OU 2H</th>\n",
       "      <th>Total Points</th>\n",
       "      <th>Win Margin</th>\n",
       "      <th>Total Points 2H</th>\n",
       "      <th>Win Margin 2H</th>\n",
       "      <th>Incomplete Passes</th>\n",
       "      <th>...</th>\n",
       "      <th>Sack</th>\n",
       "      <th>Touchdowns</th>\n",
       "      <th>Pass Touchdowns</th>\n",
       "      <th>Rush Touchdowns</th>\n",
       "      <th>Extra Point Attempts</th>\n",
       "      <th>Two Point Attempts</th>\n",
       "      <th>Field Goal Attempts</th>\n",
       "      <th>Punt Attempts</th>\n",
       "      <th>Fumble</th>\n",
       "      <th>Complete Passes</th>\n",
       "    </tr>\n",
       "  </thead>\n",
       "  <tbody>\n",
       "    <tr>\n",
       "      <th>0</th>\n",
       "      <td>0</td>\n",
       "      <td>PIT</td>\n",
       "      <td>TEN</td>\n",
       "      <td>35.0</td>\n",
       "      <td>17.5</td>\n",
       "      <td>23</td>\n",
       "      <td>-3</td>\n",
       "      <td>6</td>\n",
       "      <td>6</td>\n",
       "      <td>20</td>\n",
       "      <td>...</td>\n",
       "      <td>5</td>\n",
       "      <td>2</td>\n",
       "      <td>2</td>\n",
       "      <td>0</td>\n",
       "      <td>2</td>\n",
       "      <td>0</td>\n",
       "      <td>5</td>\n",
       "      <td>12</td>\n",
       "      <td>3</td>\n",
       "      <td>55</td>\n",
       "    </tr>\n",
       "    <tr>\n",
       "      <th>1</th>\n",
       "      <td>1</td>\n",
       "      <td>BAL</td>\n",
       "      <td>KC</td>\n",
       "      <td>37.5</td>\n",
       "      <td>17.0</td>\n",
       "      <td>62</td>\n",
       "      <td>-14</td>\n",
       "      <td>45</td>\n",
       "      <td>31</td>\n",
       "      <td>24</td>\n",
       "      <td>...</td>\n",
       "      <td>4</td>\n",
       "      <td>8</td>\n",
       "      <td>5</td>\n",
       "      <td>2</td>\n",
       "      <td>7</td>\n",
       "      <td>0</td>\n",
       "      <td>3</td>\n",
       "      <td>8</td>\n",
       "      <td>3</td>\n",
       "      <td>42</td>\n",
       "    </tr>\n",
       "    <tr>\n",
       "      <th>2</th>\n",
       "      <td>2</td>\n",
       "      <td>CAR</td>\n",
       "      <td>PHI</td>\n",
       "      <td>44.5</td>\n",
       "      <td>20.5</td>\n",
       "      <td>48</td>\n",
       "      <td>28</td>\n",
       "      <td>7</td>\n",
       "      <td>7</td>\n",
       "      <td>26</td>\n",
       "      <td>...</td>\n",
       "      <td>7</td>\n",
       "      <td>6</td>\n",
       "      <td>2</td>\n",
       "      <td>2</td>\n",
       "      <td>4</td>\n",
       "      <td>0</td>\n",
       "      <td>3</td>\n",
       "      <td>8</td>\n",
       "      <td>4</td>\n",
       "      <td>31</td>\n",
       "    </tr>\n",
       "    <tr>\n",
       "      <th>3</th>\n",
       "      <td>3</td>\n",
       "      <td>CIN</td>\n",
       "      <td>DEN</td>\n",
       "      <td>44.5</td>\n",
       "      <td>19.5</td>\n",
       "      <td>19</td>\n",
       "      <td>5</td>\n",
       "      <td>16</td>\n",
       "      <td>16</td>\n",
       "      <td>21</td>\n",
       "      <td>...</td>\n",
       "      <td>6</td>\n",
       "      <td>2</td>\n",
       "      <td>1</td>\n",
       "      <td>1</td>\n",
       "      <td>1</td>\n",
       "      <td>1</td>\n",
       "      <td>2</td>\n",
       "      <td>15</td>\n",
       "      <td>2</td>\n",
       "      <td>38</td>\n",
       "    </tr>\n",
       "    <tr>\n",
       "      <th>4</th>\n",
       "      <td>4</td>\n",
       "      <td>CLE</td>\n",
       "      <td>MIN</td>\n",
       "      <td>39.5</td>\n",
       "      <td>19.0</td>\n",
       "      <td>54</td>\n",
       "      <td>14</td>\n",
       "      <td>31</td>\n",
       "      <td>31</td>\n",
       "      <td>21</td>\n",
       "      <td>...</td>\n",
       "      <td>9</td>\n",
       "      <td>6</td>\n",
       "      <td>2</td>\n",
       "      <td>3</td>\n",
       "      <td>5</td>\n",
       "      <td>0</td>\n",
       "      <td>4</td>\n",
       "      <td>11</td>\n",
       "      <td>3</td>\n",
       "      <td>35</td>\n",
       "    </tr>\n",
       "  </tbody>\n",
       "</table>\n",
       "<p>5 rows × 29 columns</p>\n",
       "</div>"
      ],
      "text/plain": [
       "   Unnamed: 0 Home Away    OU  OU 2H  Total Points  Win Margin  \\\n",
       "0           0  PIT  TEN  35.0   17.5            23          -3   \n",
       "1           1  BAL   KC  37.5   17.0            62         -14   \n",
       "2           2  CAR  PHI  44.5   20.5            48          28   \n",
       "3           3  CIN  DEN  44.5   19.5            19           5   \n",
       "4           4  CLE  MIN  39.5   19.0            54          14   \n",
       "\n",
       "   Total Points 2H  Win Margin 2H  Incomplete Passes  ...  Sack  Touchdowns  \\\n",
       "0                6              6                 20  ...     5           2   \n",
       "1               45             31                 24  ...     4           8   \n",
       "2                7              7                 26  ...     7           6   \n",
       "3               16             16                 21  ...     6           2   \n",
       "4               31             31                 21  ...     9           6   \n",
       "\n",
       "   Pass Touchdowns  Rush Touchdowns  Extra Point Attempts  Two Point Attempts  \\\n",
       "0                2                0                     2                   0   \n",
       "1                5                2                     7                   0   \n",
       "2                2                2                     4                   0   \n",
       "3                1                1                     1                   1   \n",
       "4                2                3                     5                   0   \n",
       "\n",
       "   Field Goal Attempts  Punt Attempts  Fumble  Complete Passes  \n",
       "0                    5             12       3               55  \n",
       "1                    3              8       3               42  \n",
       "2                    3              8       4               31  \n",
       "3                    2             15       2               38  \n",
       "4                    4             11       3               35  \n",
       "\n",
       "[5 rows x 29 columns]"
      ]
     },
     "execution_count": 2,
     "metadata": {},
     "output_type": "execute_result"
    }
   ],
   "source": [
    "path = os.getcwd()\n",
    "nfl_combined_data_dir_path = os.path.join(path, '..\\\\nfl_combined_data')\n",
    "files = os.listdir(nfl_combined_data_dir_path)\n",
    "\n",
    "# Reading the first file. This file will be merged with the other  \n",
    "# files to create the combined file\n",
    "file = os.path.join(nfl_combined_data_dir_path, files[0])\n",
    "df = pd.read_excel(file)\n",
    "df.head(5)"
   ]
  },
  {
   "cell_type": "markdown",
   "id": "certain-merchant",
   "metadata": {},
   "source": [
    "## Dataset cleaning and changing "
   ]
  },
  {
   "cell_type": "markdown",
   "id": "nasty-sucking",
   "metadata": {},
   "source": [
    "Merging the datasets to combine them into a single dataset."
   ]
  },
  {
   "cell_type": "code",
   "execution_count": 3,
   "id": "usual-married",
   "metadata": {},
   "outputs": [],
   "source": [
    "frames = [] # Store the dataframes to merge to final dataframe\n",
    "\n",
    "# Opening files and merging the files to make one file.\n",
    "for i in range(1, len(files)):\n",
    "    file = os.path.join(nfl_combined_data_dir_path, files[i])\n",
    "    df_temp = pd.read_excel(file)\n",
    "    frames.append(df_temp)\n",
    "    \n",
    "df = pd.concat(frames)"
   ]
  },
  {
   "cell_type": "code",
   "execution_count": 4,
   "id": "intensive-tyler",
   "metadata": {},
   "outputs": [
    {
     "data": {
      "text/html": [
       "<div>\n",
       "<style scoped>\n",
       "    .dataframe tbody tr th:only-of-type {\n",
       "        vertical-align: middle;\n",
       "    }\n",
       "\n",
       "    .dataframe tbody tr th {\n",
       "        vertical-align: top;\n",
       "    }\n",
       "\n",
       "    .dataframe thead th {\n",
       "        text-align: right;\n",
       "    }\n",
       "</style>\n",
       "<table border=\"1\" class=\"dataframe\">\n",
       "  <thead>\n",
       "    <tr style=\"text-align: right;\">\n",
       "      <th></th>\n",
       "      <th>Unnamed: 0</th>\n",
       "      <th>Home</th>\n",
       "      <th>Away</th>\n",
       "      <th>OU</th>\n",
       "      <th>OU 2H</th>\n",
       "      <th>Total Points</th>\n",
       "      <th>Win Margin</th>\n",
       "      <th>Total Points 2H</th>\n",
       "      <th>Win Margin 2H</th>\n",
       "      <th>Incomplete Passes</th>\n",
       "      <th>...</th>\n",
       "      <th>Sack</th>\n",
       "      <th>Touchdowns</th>\n",
       "      <th>Pass Touchdowns</th>\n",
       "      <th>Rush Touchdowns</th>\n",
       "      <th>Extra Point Attempts</th>\n",
       "      <th>Two Point Attempts</th>\n",
       "      <th>Field Goal Attempts</th>\n",
       "      <th>Punt Attempts</th>\n",
       "      <th>Fumble</th>\n",
       "      <th>Complete Passes</th>\n",
       "    </tr>\n",
       "  </thead>\n",
       "  <tbody>\n",
       "    <tr>\n",
       "      <th>219</th>\n",
       "      <td>219</td>\n",
       "      <td>KC</td>\n",
       "      <td>LAC</td>\n",
       "      <td>48.0</td>\n",
       "      <td>23.0</td>\n",
       "      <td>52</td>\n",
       "      <td>-10</td>\n",
       "      <td>35</td>\n",
       "      <td>7</td>\n",
       "      <td>21</td>\n",
       "      <td>...</td>\n",
       "      <td>3</td>\n",
       "      <td>7</td>\n",
       "      <td>3</td>\n",
       "      <td>3</td>\n",
       "      <td>7</td>\n",
       "      <td>0</td>\n",
       "      <td>1</td>\n",
       "      <td>5</td>\n",
       "      <td>0</td>\n",
       "      <td>47</td>\n",
       "    </tr>\n",
       "    <tr>\n",
       "      <th>220</th>\n",
       "      <td>220</td>\n",
       "      <td>LA</td>\n",
       "      <td>ARI</td>\n",
       "      <td>49.0</td>\n",
       "      <td>22.5</td>\n",
       "      <td>55</td>\n",
       "      <td>-7</td>\n",
       "      <td>28</td>\n",
       "      <td>28</td>\n",
       "      <td>30</td>\n",
       "      <td>...</td>\n",
       "      <td>2</td>\n",
       "      <td>7</td>\n",
       "      <td>5</td>\n",
       "      <td>2</td>\n",
       "      <td>7</td>\n",
       "      <td>0</td>\n",
       "      <td>3</td>\n",
       "      <td>7</td>\n",
       "      <td>3</td>\n",
       "      <td>56</td>\n",
       "    </tr>\n",
       "    <tr>\n",
       "      <th>221</th>\n",
       "      <td>221</td>\n",
       "      <td>DEN</td>\n",
       "      <td>OAK</td>\n",
       "      <td>41.5</td>\n",
       "      <td>20.5</td>\n",
       "      <td>31</td>\n",
       "      <td>-1</td>\n",
       "      <td>18</td>\n",
       "      <td>12</td>\n",
       "      <td>28</td>\n",
       "      <td>...</td>\n",
       "      <td>4</td>\n",
       "      <td>2</td>\n",
       "      <td>2</td>\n",
       "      <td>0</td>\n",
       "      <td>1</td>\n",
       "      <td>1</td>\n",
       "      <td>8</td>\n",
       "      <td>8</td>\n",
       "      <td>7</td>\n",
       "      <td>46</td>\n",
       "    </tr>\n",
       "    <tr>\n",
       "      <th>222</th>\n",
       "      <td>222</td>\n",
       "      <td>PHI</td>\n",
       "      <td>SEA</td>\n",
       "      <td>46.0</td>\n",
       "      <td>20.0</td>\n",
       "      <td>26</td>\n",
       "      <td>8</td>\n",
       "      <td>13</td>\n",
       "      <td>1</td>\n",
       "      <td>21</td>\n",
       "      <td>...</td>\n",
       "      <td>9</td>\n",
       "      <td>3</td>\n",
       "      <td>2</td>\n",
       "      <td>1</td>\n",
       "      <td>2</td>\n",
       "      <td>1</td>\n",
       "      <td>2</td>\n",
       "      <td>11</td>\n",
       "      <td>6</td>\n",
       "      <td>46</td>\n",
       "    </tr>\n",
       "    <tr>\n",
       "      <th>223</th>\n",
       "      <td>223</td>\n",
       "      <td>KC</td>\n",
       "      <td>HOU</td>\n",
       "      <td>48.0</td>\n",
       "      <td>27.0</td>\n",
       "      <td>82</td>\n",
       "      <td>-20</td>\n",
       "      <td>30</td>\n",
       "      <td>4</td>\n",
       "      <td>25</td>\n",
       "      <td>...</td>\n",
       "      <td>1</td>\n",
       "      <td>7</td>\n",
       "      <td>4</td>\n",
       "      <td>3</td>\n",
       "      <td>6</td>\n",
       "      <td>1</td>\n",
       "      <td>4</td>\n",
       "      <td>2</td>\n",
       "      <td>2</td>\n",
       "      <td>49</td>\n",
       "    </tr>\n",
       "  </tbody>\n",
       "</table>\n",
       "<p>5 rows × 29 columns</p>\n",
       "</div>"
      ],
      "text/plain": [
       "     Unnamed: 0 Home Away    OU  OU 2H  Total Points  Win Margin  \\\n",
       "219         219   KC  LAC  48.0   23.0            52         -10   \n",
       "220         220   LA  ARI  49.0   22.5            55          -7   \n",
       "221         221  DEN  OAK  41.5   20.5            31          -1   \n",
       "222         222  PHI  SEA  46.0   20.0            26           8   \n",
       "223         223   KC  HOU  48.0   27.0            82         -20   \n",
       "\n",
       "     Total Points 2H  Win Margin 2H  Incomplete Passes  ...  Sack  Touchdowns  \\\n",
       "219               35              7                 21  ...     3           7   \n",
       "220               28             28                 30  ...     2           7   \n",
       "221               18             12                 28  ...     4           2   \n",
       "222               13              1                 21  ...     9           3   \n",
       "223               30              4                 25  ...     1           7   \n",
       "\n",
       "     Pass Touchdowns  Rush Touchdowns  Extra Point Attempts  \\\n",
       "219                3                3                     7   \n",
       "220                5                2                     7   \n",
       "221                2                0                     1   \n",
       "222                2                1                     2   \n",
       "223                4                3                     6   \n",
       "\n",
       "     Two Point Attempts  Field Goal Attempts  Punt Attempts  Fumble  \\\n",
       "219                   0                    1              5       0   \n",
       "220                   0                    3              7       3   \n",
       "221                   1                    8              8       7   \n",
       "222                   1                    2             11       6   \n",
       "223                   1                    4              2       2   \n",
       "\n",
       "     Complete Passes  \n",
       "219               47  \n",
       "220               56  \n",
       "221               46  \n",
       "222               46  \n",
       "223               49  \n",
       "\n",
       "[5 rows x 29 columns]"
      ]
     },
     "execution_count": 4,
     "metadata": {},
     "output_type": "execute_result"
    }
   ],
   "source": [
    "df.tail(5)"
   ]
  },
  {
   "cell_type": "markdown",
   "id": "suspended-leisure",
   "metadata": {},
   "source": [
    "Checking the dataset and seeing what values we are working with. We see that most of the values are int64 or float64 types. The other 2, Home and Away, are object types. Those are our categorical values we will need to encode. And there is one feature we will drop, which is the \"Unnamed\" feature. We also notice that there are no null features, which means we will not need to impute the dataset."
   ]
  },
  {
   "cell_type": "code",
   "execution_count": 5,
   "id": "mental-third",
   "metadata": {
    "scrolled": true
   },
   "outputs": [
    {
     "name": "stdout",
     "output_type": "stream",
     "text": [
      "<class 'pandas.core.frame.DataFrame'>\n",
      "Int64Index: 2107 entries, 0 to 223\n",
      "Data columns (total 29 columns):\n",
      " #   Column                Non-Null Count  Dtype  \n",
      "---  ------                --------------  -----  \n",
      " 0   Unnamed: 0            2107 non-null   int64  \n",
      " 1   Home                  2107 non-null   object \n",
      " 2   Away                  2107 non-null   object \n",
      " 3   OU                    2107 non-null   float64\n",
      " 4   OU 2H                 2107 non-null   float64\n",
      " 5   Total Points          2107 non-null   int64  \n",
      " 6   Win Margin            2107 non-null   int64  \n",
      " 7   Total Points 2H       2107 non-null   int64  \n",
      " 8   Win Margin 2H         2107 non-null   int64  \n",
      " 9   Incomplete Passes     2107 non-null   int64  \n",
      " 10  Touchbacks            2107 non-null   int64  \n",
      " 11  Interceptions         2107 non-null   int64  \n",
      " 12  Fumble Forced         2107 non-null   int64  \n",
      " 13  Fumble Not Forced     2107 non-null   int64  \n",
      " 14  Safety                2107 non-null   int64  \n",
      " 15  Penalty               2107 non-null   int64  \n",
      " 16  Tackled For Loss      2107 non-null   int64  \n",
      " 17  Rush Attempts         2107 non-null   int64  \n",
      " 18  Pass Attempts         2107 non-null   int64  \n",
      " 19  Sack                  2107 non-null   int64  \n",
      " 20  Touchdowns            2107 non-null   int64  \n",
      " 21  Pass Touchdowns       2107 non-null   int64  \n",
      " 22  Rush Touchdowns       2107 non-null   int64  \n",
      " 23  Extra Point Attempts  2107 non-null   int64  \n",
      " 24  Two Point Attempts    2107 non-null   int64  \n",
      " 25  Field Goal Attempts   2107 non-null   int64  \n",
      " 26  Punt Attempts         2107 non-null   int64  \n",
      " 27  Fumble                2107 non-null   int64  \n",
      " 28  Complete Passes       2107 non-null   int64  \n",
      "dtypes: float64(2), int64(25), object(2)\n",
      "memory usage: 493.8+ KB\n"
     ]
    }
   ],
   "source": [
    "df.info()"
   ]
  },
  {
   "cell_type": "markdown",
   "id": "desperate-frank",
   "metadata": {},
   "source": [
    "Seeing the size of the dataset. It shows that there are 2107 datapoints with 29 features. However, we are dropping one feature, which will not be need in the dataset."
   ]
  },
  {
   "cell_type": "code",
   "execution_count": 6,
   "id": "romantic-burning",
   "metadata": {},
   "outputs": [
    {
     "data": {
      "text/plain": [
       "(2107, 29)"
      ]
     },
     "execution_count": 6,
     "metadata": {},
     "output_type": "execute_result"
    }
   ],
   "source": [
    "df.shape"
   ]
  },
  {
   "cell_type": "code",
   "execution_count": 7,
   "id": "supported-campbell",
   "metadata": {},
   "outputs": [],
   "source": [
    "df = df.drop('Unnamed: 0', axis=1) # Dropping the \"Unnamed column\""
   ]
  },
  {
   "cell_type": "code",
   "execution_count": 8,
   "id": "allied-column",
   "metadata": {
    "scrolled": true
   },
   "outputs": [
    {
     "data": {
      "text/html": [
       "<div>\n",
       "<style scoped>\n",
       "    .dataframe tbody tr th:only-of-type {\n",
       "        vertical-align: middle;\n",
       "    }\n",
       "\n",
       "    .dataframe tbody tr th {\n",
       "        vertical-align: top;\n",
       "    }\n",
       "\n",
       "    .dataframe thead th {\n",
       "        text-align: right;\n",
       "    }\n",
       "</style>\n",
       "<table border=\"1\" class=\"dataframe\">\n",
       "  <thead>\n",
       "    <tr style=\"text-align: right;\">\n",
       "      <th></th>\n",
       "      <th>Home</th>\n",
       "      <th>Away</th>\n",
       "      <th>OU</th>\n",
       "      <th>OU 2H</th>\n",
       "      <th>Total Points</th>\n",
       "      <th>Win Margin</th>\n",
       "      <th>Total Points 2H</th>\n",
       "      <th>Win Margin 2H</th>\n",
       "      <th>Incomplete Passes</th>\n",
       "      <th>Touchbacks</th>\n",
       "      <th>...</th>\n",
       "      <th>Sack</th>\n",
       "      <th>Touchdowns</th>\n",
       "      <th>Pass Touchdowns</th>\n",
       "      <th>Rush Touchdowns</th>\n",
       "      <th>Extra Point Attempts</th>\n",
       "      <th>Two Point Attempts</th>\n",
       "      <th>Field Goal Attempts</th>\n",
       "      <th>Punt Attempts</th>\n",
       "      <th>Fumble</th>\n",
       "      <th>Complete Passes</th>\n",
       "    </tr>\n",
       "  </thead>\n",
       "  <tbody>\n",
       "    <tr>\n",
       "      <th>59</th>\n",
       "      <td>CAR</td>\n",
       "      <td>TB</td>\n",
       "      <td>46.0</td>\n",
       "      <td>23.5</td>\n",
       "      <td>31</td>\n",
       "      <td>3</td>\n",
       "      <td>25</td>\n",
       "      <td>-3</td>\n",
       "      <td>20</td>\n",
       "      <td>8</td>\n",
       "      <td>...</td>\n",
       "      <td>2</td>\n",
       "      <td>3</td>\n",
       "      <td>1</td>\n",
       "      <td>2</td>\n",
       "      <td>2</td>\n",
       "      <td>1</td>\n",
       "      <td>6</td>\n",
       "      <td>9</td>\n",
       "      <td>3</td>\n",
       "      <td>36</td>\n",
       "    </tr>\n",
       "    <tr>\n",
       "      <th>169</th>\n",
       "      <td>GB</td>\n",
       "      <td>WAS</td>\n",
       "      <td>42.0</td>\n",
       "      <td>20.5</td>\n",
       "      <td>35</td>\n",
       "      <td>-5</td>\n",
       "      <td>15</td>\n",
       "      <td>9</td>\n",
       "      <td>20</td>\n",
       "      <td>8</td>\n",
       "      <td>...</td>\n",
       "      <td>8</td>\n",
       "      <td>4</td>\n",
       "      <td>2</td>\n",
       "      <td>2</td>\n",
       "      <td>3</td>\n",
       "      <td>1</td>\n",
       "      <td>3</td>\n",
       "      <td>10</td>\n",
       "      <td>3</td>\n",
       "      <td>34</td>\n",
       "    </tr>\n",
       "    <tr>\n",
       "      <th>46</th>\n",
       "      <td>BUF</td>\n",
       "      <td>NYG</td>\n",
       "      <td>48.0</td>\n",
       "      <td>23.0</td>\n",
       "      <td>34</td>\n",
       "      <td>14</td>\n",
       "      <td>15</td>\n",
       "      <td>15</td>\n",
       "      <td>27</td>\n",
       "      <td>3</td>\n",
       "      <td>...</td>\n",
       "      <td>3</td>\n",
       "      <td>4</td>\n",
       "      <td>4</td>\n",
       "      <td>0</td>\n",
       "      <td>3</td>\n",
       "      <td>1</td>\n",
       "      <td>3</td>\n",
       "      <td>15</td>\n",
       "      <td>3</td>\n",
       "      <td>48</td>\n",
       "    </tr>\n",
       "    <tr>\n",
       "      <th>56</th>\n",
       "      <td>SF</td>\n",
       "      <td>ARI</td>\n",
       "      <td>41.0</td>\n",
       "      <td>20.0</td>\n",
       "      <td>46</td>\n",
       "      <td>10</td>\n",
       "      <td>26</td>\n",
       "      <td>26</td>\n",
       "      <td>33</td>\n",
       "      <td>7</td>\n",
       "      <td>...</td>\n",
       "      <td>5</td>\n",
       "      <td>7</td>\n",
       "      <td>3</td>\n",
       "      <td>3</td>\n",
       "      <td>3</td>\n",
       "      <td>3</td>\n",
       "      <td>1</td>\n",
       "      <td>12</td>\n",
       "      <td>5</td>\n",
       "      <td>44</td>\n",
       "    </tr>\n",
       "    <tr>\n",
       "      <th>28</th>\n",
       "      <td>MIA</td>\n",
       "      <td>CLE</td>\n",
       "      <td>42.5</td>\n",
       "      <td>22.0</td>\n",
       "      <td>54</td>\n",
       "      <td>-6</td>\n",
       "      <td>25</td>\n",
       "      <td>11</td>\n",
       "      <td>26</td>\n",
       "      <td>8</td>\n",
       "      <td>...</td>\n",
       "      <td>5</td>\n",
       "      <td>6</td>\n",
       "      <td>3</td>\n",
       "      <td>2</td>\n",
       "      <td>3</td>\n",
       "      <td>1</td>\n",
       "      <td>7</td>\n",
       "      <td>11</td>\n",
       "      <td>4</td>\n",
       "      <td>49</td>\n",
       "    </tr>\n",
       "  </tbody>\n",
       "</table>\n",
       "<p>5 rows × 28 columns</p>\n",
       "</div>"
      ],
      "text/plain": [
       "    Home Away    OU  OU 2H  Total Points  Win Margin  Total Points 2H  \\\n",
       "59   CAR   TB  46.0   23.5            31           3               25   \n",
       "169   GB  WAS  42.0   20.5            35          -5               15   \n",
       "46   BUF  NYG  48.0   23.0            34          14               15   \n",
       "56    SF  ARI  41.0   20.0            46          10               26   \n",
       "28   MIA  CLE  42.5   22.0            54          -6               25   \n",
       "\n",
       "     Win Margin 2H  Incomplete Passes  Touchbacks  ...  Sack  Touchdowns  \\\n",
       "59              -3                 20           8  ...     2           3   \n",
       "169              9                 20           8  ...     8           4   \n",
       "46              15                 27           3  ...     3           4   \n",
       "56              26                 33           7  ...     5           7   \n",
       "28              11                 26           8  ...     5           6   \n",
       "\n",
       "     Pass Touchdowns  Rush Touchdowns  Extra Point Attempts  \\\n",
       "59                 1                2                     2   \n",
       "169                2                2                     3   \n",
       "46                 4                0                     3   \n",
       "56                 3                3                     3   \n",
       "28                 3                2                     3   \n",
       "\n",
       "     Two Point Attempts  Field Goal Attempts  Punt Attempts  Fumble  \\\n",
       "59                    1                    6              9       3   \n",
       "169                   1                    3             10       3   \n",
       "46                    1                    3             15       3   \n",
       "56                    3                    1             12       5   \n",
       "28                    1                    7             11       4   \n",
       "\n",
       "     Complete Passes  \n",
       "59                36  \n",
       "169               34  \n",
       "46                48  \n",
       "56                44  \n",
       "28                49  \n",
       "\n",
       "[5 rows x 28 columns]"
      ]
     },
     "execution_count": 8,
     "metadata": {},
     "output_type": "execute_result"
    }
   ],
   "source": [
    "df.sample(5, random_state=0)"
   ]
  },
  {
   "cell_type": "markdown",
   "id": "corresponding-semester",
   "metadata": {},
   "source": [
    "Getting the columns of the dataset. These are the features we are going to be using for our model."
   ]
  },
  {
   "cell_type": "code",
   "execution_count": 9,
   "id": "amazing-electronics",
   "metadata": {},
   "outputs": [
    {
     "data": {
      "text/plain": [
       "Index(['Home', 'Away', 'OU', 'OU 2H', 'Total Points', 'Win Margin',\n",
       "       'Total Points 2H', 'Win Margin 2H', 'Incomplete Passes', 'Touchbacks',\n",
       "       'Interceptions', 'Fumble Forced', 'Fumble Not Forced', 'Safety',\n",
       "       'Penalty', 'Tackled For Loss', 'Rush Attempts', 'Pass Attempts', 'Sack',\n",
       "       'Touchdowns', 'Pass Touchdowns', 'Rush Touchdowns',\n",
       "       'Extra Point Attempts', 'Two Point Attempts', 'Field Goal Attempts',\n",
       "       'Punt Attempts', 'Fumble', 'Complete Passes'],\n",
       "      dtype='object')"
      ]
     },
     "execution_count": 9,
     "metadata": {},
     "output_type": "execute_result"
    }
   ],
   "source": [
    "df.columns"
   ]
  },
  {
   "cell_type": "markdown",
   "id": "directed-screening",
   "metadata": {},
   "source": [
    "We wanted to see the statistical information that pertains to our dataset. We wanted to make sure that our dataset is useful and will help in our predictions. In this case, when looking at the mean of OU, the mean is 45.195. That would indicate that the an NFL game would be predicted by the sports books to be about 45 points, which can be the case. There are series of NFL games where both teams have scored in total 45 or more points. Seeing that, the data seems reasonable and will be helpful in training the model."
   ]
  },
  {
   "cell_type": "code",
   "execution_count": 10,
   "id": "excellent-jonathan",
   "metadata": {},
   "outputs": [
    {
     "data": {
      "text/html": [
       "<div>\n",
       "<style scoped>\n",
       "    .dataframe tbody tr th:only-of-type {\n",
       "        vertical-align: middle;\n",
       "    }\n",
       "\n",
       "    .dataframe tbody tr th {\n",
       "        vertical-align: top;\n",
       "    }\n",
       "\n",
       "    .dataframe thead th {\n",
       "        text-align: right;\n",
       "    }\n",
       "</style>\n",
       "<table border=\"1\" class=\"dataframe\">\n",
       "  <thead>\n",
       "    <tr style=\"text-align: right;\">\n",
       "      <th></th>\n",
       "      <th>OU</th>\n",
       "      <th>OU 2H</th>\n",
       "      <th>Total Points</th>\n",
       "      <th>Win Margin</th>\n",
       "      <th>Total Points 2H</th>\n",
       "      <th>Win Margin 2H</th>\n",
       "      <th>Incomplete Passes</th>\n",
       "      <th>Touchbacks</th>\n",
       "      <th>Interceptions</th>\n",
       "      <th>Fumble Forced</th>\n",
       "      <th>...</th>\n",
       "      <th>Sack</th>\n",
       "      <th>Touchdowns</th>\n",
       "      <th>Pass Touchdowns</th>\n",
       "      <th>Rush Touchdowns</th>\n",
       "      <th>Extra Point Attempts</th>\n",
       "      <th>Two Point Attempts</th>\n",
       "      <th>Field Goal Attempts</th>\n",
       "      <th>Punt Attempts</th>\n",
       "      <th>Fumble</th>\n",
       "      <th>Complete Passes</th>\n",
       "    </tr>\n",
       "  </thead>\n",
       "  <tbody>\n",
       "    <tr>\n",
       "      <th>count</th>\n",
       "      <td>2107.000000</td>\n",
       "      <td>2107.000000</td>\n",
       "      <td>2107.000000</td>\n",
       "      <td>2107.000000</td>\n",
       "      <td>2107.000000</td>\n",
       "      <td>2107.000000</td>\n",
       "      <td>2107.000000</td>\n",
       "      <td>2107.000000</td>\n",
       "      <td>2107.000000</td>\n",
       "      <td>2107.000000</td>\n",
       "      <td>...</td>\n",
       "      <td>2107.000000</td>\n",
       "      <td>2107.000000</td>\n",
       "      <td>2107.000000</td>\n",
       "      <td>2107.000000</td>\n",
       "      <td>2107.000000</td>\n",
       "      <td>2107.000000</td>\n",
       "      <td>2107.000000</td>\n",
       "      <td>2107.000000</td>\n",
       "      <td>2107.000000</td>\n",
       "      <td>2107.000000</td>\n",
       "    </tr>\n",
       "    <tr>\n",
       "      <th>mean</th>\n",
       "      <td>45.195301</td>\n",
       "      <td>22.353109</td>\n",
       "      <td>45.661130</td>\n",
       "      <td>-2.355007</td>\n",
       "      <td>22.470337</td>\n",
       "      <td>12.464642</td>\n",
       "      <td>24.552444</td>\n",
       "      <td>5.940674</td>\n",
       "      <td>1.783579</td>\n",
       "      <td>1.687708</td>\n",
       "      <td>...</td>\n",
       "      <td>4.686284</td>\n",
       "      <td>5.142857</td>\n",
       "      <td>3.122924</td>\n",
       "      <td>1.608448</td>\n",
       "      <td>4.494067</td>\n",
       "      <td>0.300427</td>\n",
       "      <td>3.877551</td>\n",
       "      <td>9.293783</td>\n",
       "      <td>2.517323</td>\n",
       "      <td>43.420503</td>\n",
       "    </tr>\n",
       "    <tr>\n",
       "      <th>std</th>\n",
       "      <td>4.206470</td>\n",
       "      <td>3.148794</td>\n",
       "      <td>13.928219</td>\n",
       "      <td>14.610070</td>\n",
       "      <td>9.827547</td>\n",
       "      <td>10.578475</td>\n",
       "      <td>6.140294</td>\n",
       "      <td>2.842626</td>\n",
       "      <td>1.315282</td>\n",
       "      <td>1.320183</td>\n",
       "      <td>...</td>\n",
       "      <td>2.339799</td>\n",
       "      <td>2.133930</td>\n",
       "      <td>1.773387</td>\n",
       "      <td>1.253290</td>\n",
       "      <td>2.000080</td>\n",
       "      <td>0.608904</td>\n",
       "      <td>1.786359</td>\n",
       "      <td>3.261414</td>\n",
       "      <td>1.649213</td>\n",
       "      <td>8.248671</td>\n",
       "    </tr>\n",
       "    <tr>\n",
       "      <th>min</th>\n",
       "      <td>8.000000</td>\n",
       "      <td>16.000000</td>\n",
       "      <td>6.000000</td>\n",
       "      <td>-58.000000</td>\n",
       "      <td>0.000000</td>\n",
       "      <td>-21.000000</td>\n",
       "      <td>8.000000</td>\n",
       "      <td>0.000000</td>\n",
       "      <td>0.000000</td>\n",
       "      <td>0.000000</td>\n",
       "      <td>...</td>\n",
       "      <td>0.000000</td>\n",
       "      <td>0.000000</td>\n",
       "      <td>0.000000</td>\n",
       "      <td>0.000000</td>\n",
       "      <td>0.000000</td>\n",
       "      <td>0.000000</td>\n",
       "      <td>0.000000</td>\n",
       "      <td>1.000000</td>\n",
       "      <td>0.000000</td>\n",
       "      <td>20.000000</td>\n",
       "    </tr>\n",
       "    <tr>\n",
       "      <th>25%</th>\n",
       "      <td>42.500000</td>\n",
       "      <td>20.500000</td>\n",
       "      <td>36.000000</td>\n",
       "      <td>-10.500000</td>\n",
       "      <td>16.000000</td>\n",
       "      <td>6.000000</td>\n",
       "      <td>20.000000</td>\n",
       "      <td>4.000000</td>\n",
       "      <td>1.000000</td>\n",
       "      <td>1.000000</td>\n",
       "      <td>...</td>\n",
       "      <td>3.000000</td>\n",
       "      <td>4.000000</td>\n",
       "      <td>2.000000</td>\n",
       "      <td>1.000000</td>\n",
       "      <td>3.000000</td>\n",
       "      <td>0.000000</td>\n",
       "      <td>3.000000</td>\n",
       "      <td>7.000000</td>\n",
       "      <td>1.000000</td>\n",
       "      <td>38.000000</td>\n",
       "    </tr>\n",
       "    <tr>\n",
       "      <th>50%</th>\n",
       "      <td>45.000000</td>\n",
       "      <td>21.500000</td>\n",
       "      <td>45.000000</td>\n",
       "      <td>-3.000000</td>\n",
       "      <td>21.000000</td>\n",
       "      <td>12.000000</td>\n",
       "      <td>24.000000</td>\n",
       "      <td>6.000000</td>\n",
       "      <td>2.000000</td>\n",
       "      <td>1.000000</td>\n",
       "      <td>...</td>\n",
       "      <td>4.000000</td>\n",
       "      <td>5.000000</td>\n",
       "      <td>3.000000</td>\n",
       "      <td>1.000000</td>\n",
       "      <td>4.000000</td>\n",
       "      <td>0.000000</td>\n",
       "      <td>4.000000</td>\n",
       "      <td>9.000000</td>\n",
       "      <td>2.000000</td>\n",
       "      <td>43.000000</td>\n",
       "    </tr>\n",
       "    <tr>\n",
       "      <th>75%</th>\n",
       "      <td>47.750000</td>\n",
       "      <td>24.000000</td>\n",
       "      <td>54.000000</td>\n",
       "      <td>7.000000</td>\n",
       "      <td>28.000000</td>\n",
       "      <td>20.000000</td>\n",
       "      <td>28.000000</td>\n",
       "      <td>8.000000</td>\n",
       "      <td>3.000000</td>\n",
       "      <td>2.000000</td>\n",
       "      <td>...</td>\n",
       "      <td>6.000000</td>\n",
       "      <td>7.000000</td>\n",
       "      <td>4.000000</td>\n",
       "      <td>2.000000</td>\n",
       "      <td>6.000000</td>\n",
       "      <td>0.000000</td>\n",
       "      <td>5.000000</td>\n",
       "      <td>11.000000</td>\n",
       "      <td>3.000000</td>\n",
       "      <td>48.000000</td>\n",
       "    </tr>\n",
       "    <tr>\n",
       "      <th>max</th>\n",
       "      <td>60.500000</td>\n",
       "      <td>56.000000</td>\n",
       "      <td>101.000000</td>\n",
       "      <td>49.000000</td>\n",
       "      <td>59.000000</td>\n",
       "      <td>57.000000</td>\n",
       "      <td>48.000000</td>\n",
       "      <td>16.000000</td>\n",
       "      <td>8.000000</td>\n",
       "      <td>7.000000</td>\n",
       "      <td>...</td>\n",
       "      <td>15.000000</td>\n",
       "      <td>14.000000</td>\n",
       "      <td>13.000000</td>\n",
       "      <td>7.000000</td>\n",
       "      <td>13.000000</td>\n",
       "      <td>6.000000</td>\n",
       "      <td>11.000000</td>\n",
       "      <td>21.000000</td>\n",
       "      <td>11.000000</td>\n",
       "      <td>92.000000</td>\n",
       "    </tr>\n",
       "  </tbody>\n",
       "</table>\n",
       "<p>8 rows × 26 columns</p>\n",
       "</div>"
      ],
      "text/plain": [
       "                OU        OU 2H  Total Points   Win Margin  Total Points 2H  \\\n",
       "count  2107.000000  2107.000000   2107.000000  2107.000000      2107.000000   \n",
       "mean     45.195301    22.353109     45.661130    -2.355007        22.470337   \n",
       "std       4.206470     3.148794     13.928219    14.610070         9.827547   \n",
       "min       8.000000    16.000000      6.000000   -58.000000         0.000000   \n",
       "25%      42.500000    20.500000     36.000000   -10.500000        16.000000   \n",
       "50%      45.000000    21.500000     45.000000    -3.000000        21.000000   \n",
       "75%      47.750000    24.000000     54.000000     7.000000        28.000000   \n",
       "max      60.500000    56.000000    101.000000    49.000000        59.000000   \n",
       "\n",
       "       Win Margin 2H  Incomplete Passes   Touchbacks  Interceptions  \\\n",
       "count    2107.000000        2107.000000  2107.000000    2107.000000   \n",
       "mean       12.464642          24.552444     5.940674       1.783579   \n",
       "std        10.578475           6.140294     2.842626       1.315282   \n",
       "min       -21.000000           8.000000     0.000000       0.000000   \n",
       "25%         6.000000          20.000000     4.000000       1.000000   \n",
       "50%        12.000000          24.000000     6.000000       2.000000   \n",
       "75%        20.000000          28.000000     8.000000       3.000000   \n",
       "max        57.000000          48.000000    16.000000       8.000000   \n",
       "\n",
       "       Fumble Forced  ...         Sack   Touchdowns  Pass Touchdowns  \\\n",
       "count    2107.000000  ...  2107.000000  2107.000000      2107.000000   \n",
       "mean        1.687708  ...     4.686284     5.142857         3.122924   \n",
       "std         1.320183  ...     2.339799     2.133930         1.773387   \n",
       "min         0.000000  ...     0.000000     0.000000         0.000000   \n",
       "25%         1.000000  ...     3.000000     4.000000         2.000000   \n",
       "50%         1.000000  ...     4.000000     5.000000         3.000000   \n",
       "75%         2.000000  ...     6.000000     7.000000         4.000000   \n",
       "max         7.000000  ...    15.000000    14.000000        13.000000   \n",
       "\n",
       "       Rush Touchdowns  Extra Point Attempts  Two Point Attempts  \\\n",
       "count      2107.000000           2107.000000         2107.000000   \n",
       "mean          1.608448              4.494067            0.300427   \n",
       "std           1.253290              2.000080            0.608904   \n",
       "min           0.000000              0.000000            0.000000   \n",
       "25%           1.000000              3.000000            0.000000   \n",
       "50%           1.000000              4.000000            0.000000   \n",
       "75%           2.000000              6.000000            0.000000   \n",
       "max           7.000000             13.000000            6.000000   \n",
       "\n",
       "       Field Goal Attempts  Punt Attempts       Fumble  Complete Passes  \n",
       "count          2107.000000    2107.000000  2107.000000      2107.000000  \n",
       "mean              3.877551       9.293783     2.517323        43.420503  \n",
       "std               1.786359       3.261414     1.649213         8.248671  \n",
       "min               0.000000       1.000000     0.000000        20.000000  \n",
       "25%               3.000000       7.000000     1.000000        38.000000  \n",
       "50%               4.000000       9.000000     2.000000        43.000000  \n",
       "75%               5.000000      11.000000     3.000000        48.000000  \n",
       "max              11.000000      21.000000    11.000000        92.000000  \n",
       "\n",
       "[8 rows x 26 columns]"
      ]
     },
     "execution_count": 10,
     "metadata": {},
     "output_type": "execute_result"
    }
   ],
   "source": [
    "df.describe()"
   ]
  },
  {
   "cell_type": "markdown",
   "id": "neural-daily",
   "metadata": {},
   "source": [
    "## Transforming the dataset"
   ]
  },
  {
   "cell_type": "markdown",
   "id": "downtown-client",
   "metadata": {},
   "source": [
    "Since we have categorical values, we need to encode the features using OneHotEncoder function."
   ]
  },
  {
   "cell_type": "code",
   "execution_count": 11,
   "id": "ceramic-formula",
   "metadata": {},
   "outputs": [
    {
     "name": "stdout",
     "output_type": "stream",
     "text": [
      "['NO' 'NYG' 'CHI' ... 'DEN' 'PHI' 'KC']\n",
      "['MIN' 'CAR' 'DET' ... 'OAK' 'SEA' 'HOU']\n",
      "[[0. 0. 0. ... 0. 0. 0.]\n",
      " [0. 0. 0. ... 0. 0. 0.]\n",
      " [0. 0. 0. ... 0. 0. 0.]\n",
      " ...\n",
      " [0. 0. 0. ... 0. 0. 0.]\n",
      " [0. 0. 0. ... 0. 0. 0.]\n",
      " [0. 0. 0. ... 0. 0. 0.]]\n",
      "[[0. 0. 0. ... 0. 0. 0.]\n",
      " [0. 0. 0. ... 0. 0. 0.]\n",
      " [0. 0. 0. ... 0. 0. 0.]\n",
      " ...\n",
      " [0. 0. 0. ... 0. 0. 0.]\n",
      " [0. 0. 0. ... 0. 0. 0.]\n",
      " [0. 0. 0. ... 0. 0. 0.]]\n"
     ]
    }
   ],
   "source": [
    "from sklearn.preprocessing import OneHotEncoder\n",
    "from sklearn.impute import SimpleImputer\n",
    "from sklearn.compose import ColumnTransformer\n",
    "from sklearn.pipeline import Pipeline\n",
    "from sklearn.preprocessing import MinMaxScaler\n",
    "from sklearn.preprocessing import StandardScaler\n",
    "\n",
    "print(df['Home'].values)\n",
    "print(df['Away'].values)\n",
    "\n",
    "ohe_tfmr = OneHotEncoder(sparse=False)\n",
    "print(ohe_tfmr.fit_transform(df[['Home']].values))\n",
    "print(ohe_tfmr.fit_transform(df[['Away']].values))"
   ]
  },
  {
   "cell_type": "code",
   "execution_count": 12,
   "id": "horizontal-probe",
   "metadata": {},
   "outputs": [],
   "source": [
    "# Feature values\n",
    "categorical_features = [\"Home\", \"Away\"]\n",
    "\n",
    "numerical_features = [\"OU\", \"OU 2H\", \"Win Margin\", \"Total Points 2H\", \"Win Margin 2H\",\n",
    "                \"Incomplete Passes\", \"Touchbacks\", \"Interceptions\", \"Fumble Forced\",\n",
    "                \"Fumble Not Forced\", \"Safety\", \"Penalty\", \"Tackled For Loss\", \"Rush Attempts\", \"Pass Attempts\",\n",
    "                \"Sack\", \"Touchdowns\", \"Pass Touchdowns\", \"Rush Touchdowns\", \"Extra Point Attempts\",\n",
    "                \"Two Point Attempts\", \"Field Goal Attempts\", \"Punt Attempts\", \"Fumble\", \"Complete Passes\"]\n",
    "\n",
    "target = \"Total Points\""
   ]
  },
  {
   "cell_type": "markdown",
   "id": "descending-broad",
   "metadata": {},
   "source": [
    "Creating the pipeline that will encode the categorical values and impute (although we don't have null values, we should assume there are some). We need to scale the dataset when training the neural network so that the model will work."
   ]
  },
  {
   "cell_type": "code",
   "execution_count": 13,
   "id": "previous-linux",
   "metadata": {},
   "outputs": [
    {
     "data": {
      "text/plain": [
       "ColumnTransformer(transformers=[('cat',\n",
       "                                 Pipeline(steps=[('ohe',\n",
       "                                                  OneHotEncoder(handle_unknown='ignore',\n",
       "                                                                sparse=False))]),\n",
       "                                 ['Home', 'Away']),\n",
       "                                ('num',\n",
       "                                 Pipeline(steps=[('si',\n",
       "                                                  SimpleImputer(strategy='median')),\n",
       "                                                 ('scl', MinMaxScaler())]),\n",
       "                                 ['OU', 'OU 2H', 'Win Margin',\n",
       "                                  'Total Points 2H', 'Win Margin 2H',\n",
       "                                  'Incomplete Passes', 'Touchbacks',\n",
       "                                  'Interceptions', 'Fumble Forced',\n",
       "                                  'Fumble Not Forced', 'Safety', 'Penalty',\n",
       "                                  'Tackled For Loss', 'Rush Attempts',\n",
       "                                  'Pass Attempts', 'Sack', 'Touchdowns',\n",
       "                                  'Pass Touchdowns', 'Rush Touchdowns',\n",
       "                                  'Extra Point Attempts', 'Two Point Attempts',\n",
       "                                  'Field Goal Attempts', 'Punt Attempts',\n",
       "                                  'Fumble', 'Complete Passes'])])"
      ]
     },
     "execution_count": 13,
     "metadata": {},
     "output_type": "execute_result"
    }
   ],
   "source": [
    "# Handling categorical values.\n",
    "cat_ohe_step = ('ohe', OneHotEncoder(sparse=False, handle_unknown='ignore'))\n",
    "cat_steps = [cat_ohe_step]\n",
    "cat_pipe = Pipeline(cat_steps)\n",
    "cat_transformers = [('cat', cat_pipe, categorical_features)]\n",
    "\n",
    "# Handling numerical values\n",
    "num_si_step = ('si', SimpleImputer(strategy='median'))\n",
    "num_scl_step = ('scl', MinMaxScaler())\n",
    "# num_scl_step = ('scl', StandardScaler())\n",
    "num_steps = [num_si_step, num_scl_step]\n",
    "num_pipe = Pipeline(num_steps)\n",
    "num_transformers = [('num', num_pipe, numerical_features)]\n",
    "\n",
    "ct = ColumnTransformer(transformers=cat_transformers + num_transformers)\n",
    "ct.fit(df[categorical_features + numerical_features])"
   ]
  },
  {
   "cell_type": "markdown",
   "id": "following-groove",
   "metadata": {},
   "source": [
    "## Splitting the training and test set "
   ]
  },
  {
   "cell_type": "code",
   "execution_count": 14,
   "id": "planned-clause",
   "metadata": {},
   "outputs": [
    {
     "data": {
      "text/plain": [
       "array([[0.        , 0.        , 0.        , ..., 0.55      , 0.18181818,\n",
       "        0.30555556],\n",
       "       [0.        , 0.        , 0.        , ..., 0.3       , 0.36363636,\n",
       "        0.19444444],\n",
       "       [0.        , 0.        , 0.        , ..., 0.6       , 0.63636364,\n",
       "        0.31944444],\n",
       "       ...,\n",
       "       [0.        , 0.        , 0.        , ..., 0.35      , 0.63636364,\n",
       "        0.36111111],\n",
       "       [0.        , 0.        , 0.        , ..., 0.5       , 0.54545455,\n",
       "        0.36111111],\n",
       "       [0.        , 0.        , 0.        , ..., 0.05      , 0.18181818,\n",
       "        0.40277778]])"
      ]
     },
     "execution_count": 14,
     "metadata": {},
     "output_type": "execute_result"
    }
   ],
   "source": [
    "from sklearn.model_selection import train_test_split\n",
    "\n",
    "X = ct.transform(df[categorical_features + numerical_features])\n",
    "X"
   ]
  },
  {
   "cell_type": "markdown",
   "id": "lovely-offset",
   "metadata": {},
   "source": [
    "Need to make sure that we encode the y data since it needs to be done for neural network to work."
   ]
  },
  {
   "cell_type": "code",
   "execution_count": 15,
   "id": "pressing-ministry",
   "metadata": {},
   "outputs": [
    {
     "data": {
      "text/plain": [
       "array([[0.17894737],\n",
       "       [0.45263158],\n",
       "       [0.28421053],\n",
       "       ...,\n",
       "       [0.26315789],\n",
       "       [0.21052632],\n",
       "       [0.8       ]])"
      ]
     },
     "execution_count": 15,
     "metadata": {},
     "output_type": "execute_result"
    }
   ],
   "source": [
    "# y = df[[target]].values\n",
    "y = df[target]\n",
    "y = y.values.reshape(-1,1)\n",
    "scaler = MinMaxScaler()\n",
    "# scaler = StandardScaler()\n",
    "y = scaler.fit_transform(y)\n",
    "y"
   ]
  },
  {
   "cell_type": "code",
   "execution_count": 16,
   "id": "driven-destruction",
   "metadata": {},
   "outputs": [
    {
     "data": {
      "text/plain": [
       "(2107, 89)"
      ]
     },
     "execution_count": 16,
     "metadata": {},
     "output_type": "execute_result"
    }
   ],
   "source": [
    "X.shape"
   ]
  },
  {
   "cell_type": "code",
   "execution_count": 17,
   "id": "architectural-orchestra",
   "metadata": {},
   "outputs": [
    {
     "data": {
      "text/plain": [
       "(2107, 1)"
      ]
     },
     "execution_count": 17,
     "metadata": {},
     "output_type": "execute_result"
    }
   ],
   "source": [
    "y.shape"
   ]
  },
  {
   "cell_type": "markdown",
   "id": "systematic-official",
   "metadata": {},
   "source": [
    "Splitting the set into 80% training and 20% testing."
   ]
  },
  {
   "cell_type": "code",
   "execution_count": 18,
   "id": "stable-poker",
   "metadata": {},
   "outputs": [
    {
     "data": {
      "text/plain": [
       "(1685, 89)"
      ]
     },
     "execution_count": 18,
     "metadata": {},
     "output_type": "execute_result"
    }
   ],
   "source": [
    "X_train, X_test, y_train, y_test = train_test_split(X, y, test_size=0.2, random_state=0)\n",
    "\n",
    "y_train = np.ravel(y_train)\n",
    "y_test = np.ravel(y_test)\n",
    "\n",
    "X_train.shape"
   ]
  },
  {
   "cell_type": "code",
   "execution_count": 19,
   "id": "willing-worry",
   "metadata": {},
   "outputs": [
    {
     "data": {
      "text/plain": [
       "(422, 89)"
      ]
     },
     "execution_count": 19,
     "metadata": {},
     "output_type": "execute_result"
    }
   ],
   "source": [
    "X_test.shape"
   ]
  },
  {
   "cell_type": "code",
   "execution_count": 20,
   "id": "palestinian-passion",
   "metadata": {},
   "outputs": [
    {
     "data": {
      "text/plain": [
       "(1685,)"
      ]
     },
     "execution_count": 20,
     "metadata": {},
     "output_type": "execute_result"
    }
   ],
   "source": [
    "y_train.shape"
   ]
  },
  {
   "cell_type": "code",
   "execution_count": 21,
   "id": "english-flooring",
   "metadata": {},
   "outputs": [
    {
     "data": {
      "text/plain": [
       "(422,)"
      ]
     },
     "execution_count": 21,
     "metadata": {},
     "output_type": "execute_result"
    }
   ],
   "source": [
    "y_test.shape"
   ]
  },
  {
   "cell_type": "code",
   "execution_count": 22,
   "id": "adjusted-cleaners",
   "metadata": {},
   "outputs": [
    {
     "data": {
      "text/plain": [
       "array([[0.        , 0.        , 0.        , ..., 0.4       , 0.18181818,\n",
       "        0.43055556],\n",
       "       [0.        , 0.        , 0.        , ..., 0.4       , 0.27272727,\n",
       "        0.40277778],\n",
       "       [0.        , 0.        , 0.        , ..., 0.05      , 0.18181818,\n",
       "        0.40277778],\n",
       "       ...,\n",
       "       [0.        , 0.        , 1.        , ..., 0.65      , 0.18181818,\n",
       "        0.33333333],\n",
       "       [0.        , 0.        , 0.        , ..., 0.4       , 0.18181818,\n",
       "        0.27777778],\n",
       "       [0.        , 0.        , 0.        , ..., 0.25      , 0.18181818,\n",
       "        0.31944444]])"
      ]
     },
     "execution_count": 22,
     "metadata": {},
     "output_type": "execute_result"
    }
   ],
   "source": [
    "X_train"
   ]
  },
  {
   "cell_type": "code",
   "execution_count": 23,
   "id": "entitled-allah",
   "metadata": {},
   "outputs": [
    {
     "data": {
      "text/plain": [
       "array([0.55789474, 0.50526316, 0.8       , ..., 0.32631579, 0.52631579,\n",
       "       0.38947368])"
      ]
     },
     "execution_count": 23,
     "metadata": {},
     "output_type": "execute_result"
    }
   ],
   "source": [
    "y_train"
   ]
  },
  {
   "cell_type": "markdown",
   "id": "selected-documentary",
   "metadata": {},
   "source": [
    "## Creating the Neural Network "
   ]
  },
  {
   "cell_type": "markdown",
   "id": "downtown-connection",
   "metadata": {},
   "source": [
    "We are creating Neural Network with 2 hidden layers. And one neuron for the output layer. We are also feeding into the model 89 input features. The values for the hidden layers:\n",
    "1. The first layer has 10 neurons (nodes) and the activation function is relu.\n",
    "2. The second layer has 7 neurons and the activation function is relu."
   ]
  },
  {
   "cell_type": "markdown",
   "id": "tutorial-loading",
   "metadata": {},
   "source": [
    "We are using relu because it is one of the more popular activation functions used in neural networks. And this will help with nonliearity in our data and vanishing gradient. Lastly, the reason why we used linear in the activation function for the last layer is because we do not want to saturate the data output."
   ]
  },
  {
   "cell_type": "code",
   "execution_count": 24,
   "id": "creative-october",
   "metadata": {},
   "outputs": [],
   "source": [
    "import tensorflow.keras\n",
    "from keras.models import Sequential\n",
    "from keras.layers import Dense\n",
    "\n",
    "ann_model = Sequential()\n",
    "ann_model.add(Dense(10, input_dim = 89, activation = 'relu'))\n",
    "ann_model.add(Dense(7, activation = 'relu'))\n",
    "ann_model.add(Dense(1, activation = 'linear'))"
   ]
  },
  {
   "cell_type": "markdown",
   "id": "respective-premium",
   "metadata": {},
   "source": [
    "By using summary(), we can get the overall architecture of the neural network. We see that it has 2 hidden layers and an output layer and it has 985 parameters."
   ]
  },
  {
   "cell_type": "code",
   "execution_count": 25,
   "id": "framed-blowing",
   "metadata": {},
   "outputs": [
    {
     "name": "stdout",
     "output_type": "stream",
     "text": [
      "Model: \"sequential\"\n",
      "_________________________________________________________________\n",
      "Layer (type)                 Output Shape              Param #   \n",
      "=================================================================\n",
      "dense (Dense)                (None, 10)                900       \n",
      "_________________________________________________________________\n",
      "dense_1 (Dense)              (None, 7)                 77        \n",
      "_________________________________________________________________\n",
      "dense_2 (Dense)              (None, 1)                 8         \n",
      "=================================================================\n",
      "Total params: 985\n",
      "Trainable params: 985\n",
      "Non-trainable params: 0\n",
      "_________________________________________________________________\n"
     ]
    }
   ],
   "source": [
    "ann_model.summary()"
   ]
  },
  {
   "cell_type": "code",
   "execution_count": 26,
   "id": "empty-replacement",
   "metadata": {},
   "outputs": [],
   "source": [
    "ann_model.compile(optimizer='adam', loss='mean_squared_error')"
   ]
  },
  {
   "cell_type": "markdown",
   "id": "resident-guitar",
   "metadata": {},
   "source": [
    "We are fitting the dataset to the neural network by training the data using a 100 epochs, batch size 50, and validation split of 20%."
   ]
  },
  {
   "cell_type": "code",
   "execution_count": 27,
   "id": "proved-mongolia",
   "metadata": {},
   "outputs": [
    {
     "name": "stdout",
     "output_type": "stream",
     "text": [
      "Epoch 1/100\n",
      "27/27 [==============================] - 2s 58ms/step - loss: 0.0531 - val_loss: 0.0332\n",
      "Epoch 2/100\n",
      "27/27 [==============================] - 0s 3ms/step - loss: 0.0231 - val_loss: 0.0242\n",
      "Epoch 3/100\n",
      "27/27 [==============================] - 0s 3ms/step - loss: 0.0175 - val_loss: 0.0184\n",
      "Epoch 4/100\n",
      "27/27 [==============================] - 0s 2ms/step - loss: 0.0135 - val_loss: 0.0142\n",
      "Epoch 5/100\n",
      "27/27 [==============================] - 0s 3ms/step - loss: 0.0099 - val_loss: 0.0112\n",
      "Epoch 6/100\n",
      "27/27 [==============================] - 0s 3ms/step - loss: 0.0080 - val_loss: 0.0086\n",
      "Epoch 7/100\n",
      "27/27 [==============================] - 0s 3ms/step - loss: 0.0063 - val_loss: 0.0067\n",
      "Epoch 8/100\n",
      "27/27 [==============================] - 0s 3ms/step - loss: 0.0052 - val_loss: 0.0052\n",
      "Epoch 9/100\n",
      "27/27 [==============================] - 0s 3ms/step - loss: 0.0045 - val_loss: 0.0041\n",
      "Epoch 10/100\n",
      "27/27 [==============================] - 0s 3ms/step - loss: 0.0037 - val_loss: 0.0035\n",
      "Epoch 11/100\n",
      "27/27 [==============================] - 0s 3ms/step - loss: 0.0030 - val_loss: 0.0030\n",
      "Epoch 12/100\n",
      "27/27 [==============================] - 0s 3ms/step - loss: 0.0029 - val_loss: 0.0027\n",
      "Epoch 13/100\n",
      "27/27 [==============================] - 0s 3ms/step - loss: 0.0026 - val_loss: 0.0025\n",
      "Epoch 14/100\n",
      "27/27 [==============================] - 0s 3ms/step - loss: 0.0024 - val_loss: 0.0024\n",
      "Epoch 15/100\n",
      "27/27 [==============================] - 0s 3ms/step - loss: 0.0025 - val_loss: 0.0023\n",
      "Epoch 16/100\n",
      "27/27 [==============================] - 0s 3ms/step - loss: 0.0022 - val_loss: 0.0022\n",
      "Epoch 17/100\n",
      "27/27 [==============================] - 0s 3ms/step - loss: 0.0022 - val_loss: 0.0021\n",
      "Epoch 18/100\n",
      "27/27 [==============================] - 0s 3ms/step - loss: 0.0021 - val_loss: 0.0021\n",
      "Epoch 19/100\n",
      "27/27 [==============================] - 0s 3ms/step - loss: 0.0020 - val_loss: 0.0020\n",
      "Epoch 20/100\n",
      "27/27 [==============================] - 0s 4ms/step - loss: 0.0019 - val_loss: 0.0019\n",
      "Epoch 21/100\n",
      "27/27 [==============================] - 0s 3ms/step - loss: 0.0018 - val_loss: 0.0019\n",
      "Epoch 22/100\n",
      "27/27 [==============================] - 0s 3ms/step - loss: 0.0019 - val_loss: 0.0019\n",
      "Epoch 23/100\n",
      "27/27 [==============================] - 0s 3ms/step - loss: 0.0018 - val_loss: 0.0019\n",
      "Epoch 24/100\n",
      "27/27 [==============================] - 0s 3ms/step - loss: 0.0017 - val_loss: 0.0018\n",
      "Epoch 25/100\n",
      "27/27 [==============================] - 0s 3ms/step - loss: 0.0018 - val_loss: 0.0019\n",
      "Epoch 26/100\n",
      "27/27 [==============================] - 0s 3ms/step - loss: 0.0018 - val_loss: 0.0018\n",
      "Epoch 27/100\n",
      "27/27 [==============================] - 0s 3ms/step - loss: 0.0016 - val_loss: 0.0019\n",
      "Epoch 28/100\n",
      "27/27 [==============================] - 0s 3ms/step - loss: 0.0017 - val_loss: 0.0018\n",
      "Epoch 29/100\n",
      "27/27 [==============================] - 0s 3ms/step - loss: 0.0015 - val_loss: 0.0018\n",
      "Epoch 30/100\n",
      "27/27 [==============================] - 0s 3ms/step - loss: 0.0015 - val_loss: 0.0019\n",
      "Epoch 31/100\n",
      "27/27 [==============================] - 0s 3ms/step - loss: 0.0016 - val_loss: 0.0017\n",
      "Epoch 32/100\n",
      "27/27 [==============================] - 0s 3ms/step - loss: 0.0014 - val_loss: 0.0017\n",
      "Epoch 33/100\n",
      "27/27 [==============================] - 0s 3ms/step - loss: 0.0017 - val_loss: 0.0017\n",
      "Epoch 34/100\n",
      "27/27 [==============================] - 0s 3ms/step - loss: 0.0015 - val_loss: 0.0017\n",
      "Epoch 35/100\n",
      "27/27 [==============================] - 0s 3ms/step - loss: 0.0016 - val_loss: 0.0016\n",
      "Epoch 36/100\n",
      "27/27 [==============================] - 0s 3ms/step - loss: 0.0016 - val_loss: 0.0017\n",
      "Epoch 37/100\n",
      "27/27 [==============================] - 0s 3ms/step - loss: 0.0016 - val_loss: 0.0016\n",
      "Epoch 38/100\n",
      "27/27 [==============================] - 0s 3ms/step - loss: 0.0014 - val_loss: 0.0017\n",
      "Epoch 39/100\n",
      "27/27 [==============================] - 0s 3ms/step - loss: 0.0015 - val_loss: 0.0016\n",
      "Epoch 40/100\n",
      "27/27 [==============================] - 0s 3ms/step - loss: 0.0014 - val_loss: 0.0016\n",
      "Epoch 41/100\n",
      "27/27 [==============================] - 0s 3ms/step - loss: 0.0013 - val_loss: 0.0016\n",
      "Epoch 42/100\n",
      "27/27 [==============================] - 0s 3ms/step - loss: 0.0013 - val_loss: 0.0016\n",
      "Epoch 43/100\n",
      "27/27 [==============================] - 0s 3ms/step - loss: 0.0013 - val_loss: 0.0015\n",
      "Epoch 44/100\n",
      "27/27 [==============================] - 0s 3ms/step - loss: 0.0013 - val_loss: 0.0015\n",
      "Epoch 45/100\n",
      "27/27 [==============================] - 0s 3ms/step - loss: 0.0013 - val_loss: 0.0015\n",
      "Epoch 46/100\n",
      "27/27 [==============================] - 0s 3ms/step - loss: 0.0015 - val_loss: 0.0016\n",
      "Epoch 47/100\n",
      "27/27 [==============================] - 0s 3ms/step - loss: 0.0011 - val_loss: 0.0016\n",
      "Epoch 48/100\n",
      "27/27 [==============================] - 0s 3ms/step - loss: 0.0013 - val_loss: 0.0015\n",
      "Epoch 49/100\n",
      "27/27 [==============================] - 0s 3ms/step - loss: 0.0011 - val_loss: 0.0015\n",
      "Epoch 50/100\n",
      "27/27 [==============================] - 0s 3ms/step - loss: 0.0014 - val_loss: 0.0015\n",
      "Epoch 51/100\n",
      "27/27 [==============================] - 0s 3ms/step - loss: 0.0012 - val_loss: 0.0015\n",
      "Epoch 52/100\n",
      "27/27 [==============================] - 0s 3ms/step - loss: 0.0011 - val_loss: 0.0015\n",
      "Epoch 53/100\n",
      "27/27 [==============================] - 0s 3ms/step - loss: 0.0012 - val_loss: 0.0014\n",
      "Epoch 54/100\n",
      "27/27 [==============================] - 0s 3ms/step - loss: 0.0012 - val_loss: 0.0015\n",
      "Epoch 55/100\n",
      "27/27 [==============================] - 0s 3ms/step - loss: 0.0011 - val_loss: 0.0014\n",
      "Epoch 56/100\n",
      "27/27 [==============================] - 0s 3ms/step - loss: 0.0013 - val_loss: 0.0014\n",
      "Epoch 57/100\n",
      "27/27 [==============================] - 0s 3ms/step - loss: 9.7944e-04 - val_loss: 0.0014\n",
      "Epoch 58/100\n",
      "27/27 [==============================] - 0s 3ms/step - loss: 8.9915e-04 - val_loss: 0.0014\n",
      "Epoch 59/100\n",
      "27/27 [==============================] - 0s 3ms/step - loss: 0.0011 - val_loss: 0.0014\n",
      "Epoch 60/100\n",
      "27/27 [==============================] - 0s 3ms/step - loss: 0.0010 - val_loss: 0.0015\n",
      "Epoch 61/100\n",
      "27/27 [==============================] - 0s 3ms/step - loss: 0.0010 - val_loss: 0.0014\n",
      "Epoch 62/100\n",
      "27/27 [==============================] - 0s 3ms/step - loss: 8.8220e-04 - val_loss: 0.0014\n",
      "Epoch 63/100\n",
      "27/27 [==============================] - 0s 3ms/step - loss: 0.0010 - val_loss: 0.0014\n",
      "Epoch 64/100\n",
      "27/27 [==============================] - 0s 3ms/step - loss: 9.7168e-04 - val_loss: 0.0014\n",
      "Epoch 65/100\n",
      "27/27 [==============================] - 0s 3ms/step - loss: 0.0011 - val_loss: 0.0015\n",
      "Epoch 66/100\n",
      "27/27 [==============================] - 0s 3ms/step - loss: 8.8908e-04 - val_loss: 0.0014\n",
      "Epoch 67/100\n",
      "27/27 [==============================] - 0s 3ms/step - loss: 0.0011 - val_loss: 0.0014\n",
      "Epoch 68/100\n",
      "27/27 [==============================] - 0s 3ms/step - loss: 9.8069e-04 - val_loss: 0.0014\n",
      "Epoch 69/100\n",
      "27/27 [==============================] - 0s 3ms/step - loss: 0.0011 - val_loss: 0.0013\n",
      "Epoch 70/100\n",
      "27/27 [==============================] - 0s 3ms/step - loss: 0.0012 - val_loss: 0.0014\n",
      "Epoch 71/100\n",
      "27/27 [==============================] - 0s 3ms/step - loss: 0.0010 - val_loss: 0.0013\n",
      "Epoch 72/100\n",
      "27/27 [==============================] - 0s 3ms/step - loss: 0.0011 - val_loss: 0.0013\n",
      "Epoch 73/100\n",
      "27/27 [==============================] - 0s 3ms/step - loss: 0.0010 - val_loss: 0.0013\n",
      "Epoch 74/100\n",
      "27/27 [==============================] - 0s 3ms/step - loss: 9.1899e-04 - val_loss: 0.0013\n",
      "Epoch 75/100\n",
      "27/27 [==============================] - 0s 3ms/step - loss: 0.0010 - val_loss: 0.0013\n",
      "Epoch 76/100\n",
      "27/27 [==============================] - 0s 3ms/step - loss: 8.3250e-04 - val_loss: 0.0013\n",
      "Epoch 77/100\n",
      "27/27 [==============================] - 0s 3ms/step - loss: 9.2458e-04 - val_loss: 0.0014\n",
      "Epoch 78/100\n",
      "27/27 [==============================] - 0s 3ms/step - loss: 0.0011 - val_loss: 0.0013\n",
      "Epoch 79/100\n",
      "27/27 [==============================] - 0s 3ms/step - loss: 9.0969e-04 - val_loss: 0.0013\n",
      "Epoch 80/100\n",
      "27/27 [==============================] - 0s 3ms/step - loss: 9.6771e-04 - val_loss: 0.0013\n",
      "Epoch 81/100\n",
      "27/27 [==============================] - 0s 3ms/step - loss: 8.2686e-04 - val_loss: 0.0012\n",
      "Epoch 82/100\n",
      "27/27 [==============================] - 0s 3ms/step - loss: 0.0011 - val_loss: 0.0012\n",
      "Epoch 83/100\n",
      "27/27 [==============================] - 0s 3ms/step - loss: 8.6763e-04 - val_loss: 0.0012\n",
      "Epoch 84/100\n",
      "27/27 [==============================] - 0s 3ms/step - loss: 0.0011 - val_loss: 0.0012\n",
      "Epoch 85/100\n",
      "27/27 [==============================] - 0s 3ms/step - loss: 9.6131e-04 - val_loss: 0.0013\n",
      "Epoch 86/100\n",
      "27/27 [==============================] - 0s 3ms/step - loss: 8.0710e-04 - val_loss: 0.0012\n",
      "Epoch 87/100\n",
      "27/27 [==============================] - 0s 3ms/step - loss: 0.0010 - val_loss: 0.0012\n",
      "Epoch 88/100\n",
      "27/27 [==============================] - 0s 3ms/step - loss: 9.0262e-04 - val_loss: 0.0012\n",
      "Epoch 89/100\n",
      "27/27 [==============================] - 0s 3ms/step - loss: 9.3531e-04 - val_loss: 0.0012\n",
      "Epoch 90/100\n",
      "27/27 [==============================] - 0s 3ms/step - loss: 8.1677e-04 - val_loss: 0.0012\n",
      "Epoch 91/100\n",
      "27/27 [==============================] - 0s 3ms/step - loss: 8.7926e-04 - val_loss: 0.0012\n",
      "Epoch 92/100\n",
      "27/27 [==============================] - 0s 3ms/step - loss: 0.0011 - val_loss: 0.0012\n",
      "Epoch 93/100\n",
      "27/27 [==============================] - 0s 3ms/step - loss: 9.8219e-04 - val_loss: 0.0012\n",
      "Epoch 94/100\n",
      "27/27 [==============================] - 0s 3ms/step - loss: 7.7045e-04 - val_loss: 0.0013\n",
      "Epoch 95/100\n",
      "27/27 [==============================] - 0s 3ms/step - loss: 9.4834e-04 - val_loss: 0.0013\n",
      "Epoch 96/100\n",
      "27/27 [==============================] - 0s 3ms/step - loss: 9.5967e-04 - val_loss: 0.0013\n",
      "Epoch 97/100\n",
      "27/27 [==============================] - 0s 4ms/step - loss: 8.7636e-04 - val_loss: 0.0012\n",
      "Epoch 98/100\n",
      "27/27 [==============================] - 0s 3ms/step - loss: 8.4444e-04 - val_loss: 0.0012\n",
      "Epoch 99/100\n",
      "27/27 [==============================] - 0s 3ms/step - loss: 8.6339e-04 - val_loss: 0.0013\n",
      "Epoch 100/100\n",
      "27/27 [==============================] - 0s 4ms/step - loss: 7.9286e-04 - val_loss: 0.0012\n"
     ]
    }
   ],
   "source": [
    "epoch_hist = ann_model.fit(X_train, y_train, epochs=100, batch_size=50, verbose=1, validation_split=0.2)"
   ]
  },
  {
   "cell_type": "code",
   "execution_count": 28,
   "id": "biblical-asthma",
   "metadata": {},
   "outputs": [
    {
     "data": {
      "text/plain": [
       "dict_keys(['loss', 'val_loss'])"
      ]
     },
     "execution_count": 28,
     "metadata": {},
     "output_type": "execute_result"
    }
   ],
   "source": [
    "epoch_hist.history.keys()"
   ]
  },
  {
   "cell_type": "markdown",
   "id": "possible-milton",
   "metadata": {},
   "source": [
    "## Perfomance Evaluation"
   ]
  },
  {
   "cell_type": "markdown",
   "id": "israeli-given",
   "metadata": {},
   "source": [
    "Plotting the training and validation loss in relationship with epochs. We wanted to see whether the dataset will fit well in to the model or not. That is determine when the training and validation loss convergence is very close. We can see in the graph that both the training and validation loss converge very close, dictating that the dataset fits the model."
   ]
  },
  {
   "cell_type": "code",
   "execution_count": 29,
   "id": "wooden-insured",
   "metadata": {},
   "outputs": [
    {
     "data": {
      "image/png": "[encoded data removed]",
      "text/plain": [
       "<Figure size 432x288 with 1 Axes>"
      ]
     },
     "metadata": {
      "needs_background": "light"
     },
     "output_type": "display_data"
    }
   ],
   "source": [
    "plt.plot(epoch_hist.history['loss'])\n",
    "plt.plot(epoch_hist.history['val_loss'])\n",
    "plt.title('Model Loss Progression During Training')\n",
    "plt.xlabel('Epochs')\n",
    "plt.ylabel('Training and Validation Loss')\n",
    "plt.legend(['Training Loss', 'Validation Loss'])\n",
    "plt.show()"
   ]
  },
  {
   "cell_type": "markdown",
   "id": "separate-poetry",
   "metadata": {},
   "source": [
    "We also plotted the true values in relationship to the model predicitions to see how well the model does. We can see that there is a linear depiction from the graph, which means that the dataset performs well."
   ]
  },
  {
   "cell_type": "code",
   "execution_count": 30,
   "id": "young-breakdown",
   "metadata": {},
   "outputs": [
    {
     "data": {
      "image/png": "[encoded data removed]",
      "text/plain": [
       "<Figure size 432x288 with 1 Axes>"
      ]
     },
     "metadata": {
      "needs_background": "light"
     },
     "output_type": "display_data"
    }
   ],
   "source": [
    "y_predict = ann_model.predict(X_test)\n",
    "plt.scatter(y_test, y_predict)\n",
    "plt.xlabel('Model Predictions')\n",
    "plt.ylabel('True Values')\n",
    "plt.show()"
   ]
  },
  {
   "cell_type": "markdown",
   "id": "outside-niagara",
   "metadata": {},
   "source": [
    "Converting the values back so that we can calculate the MSE, RMSE, and R2 values to further evaluate the model."
   ]
  },
  {
   "cell_type": "code",
   "execution_count": 31,
   "id": "accessory-service",
   "metadata": {},
   "outputs": [],
   "source": [
    "y_test = y_test.reshape(-1,1)\n",
    "y_predict = y_predict.reshape(-1,1)\n",
    "\n",
    "y_test_orig = scaler.inverse_transform(y_test)\n",
    "y_predict_orig = scaler.inverse_transform(y_predict)"
   ]
  },
  {
   "cell_type": "markdown",
   "id": "engaging-tonight",
   "metadata": {},
   "source": [
    "When calculating the values, we see that the values are low and reasonable numbers. The RMSE value is about 3.500, which means the model error is about 3.5 points off, which is very low. We also calculated the R2 value, which is the value that measures how the data fits on the regression line. The closer to 1 R2 is, the better the data fits on the regression line. We can see that the R2 value is 0.938, which is very close."
   ]
  },
  {
   "cell_type": "code",
   "execution_count": 32,
   "id": "sensitive-stock",
   "metadata": {},
   "outputs": [
    {
     "name": "stdout",
     "output_type": "stream",
     "text": [
      "MSE: 11.240092916458705\n",
      "RMSE: 3.3526247801474454\n",
      "MAE: 2.441216710619452\n",
      "R2: 0.9434625022896924\n"
     ]
    }
   ],
   "source": [
    "from sklearn.metrics import r2_score,mean_squared_error,mean_absolute_error\n",
    "\n",
    "mse = mean_squared_error(y_test_orig, y_predict_orig)\n",
    "rmse = np.sqrt(mse)\n",
    "mae = mean_absolute_error(y_test_orig, y_predict_orig)\n",
    "r2 = r2_score(y_test_orig, y_predict_orig)\n",
    "\n",
    "print(\"MSE:\", mse)\n",
    "print(\"RMSE:\", rmse)\n",
    "print(\"MAE:\", mae)\n",
    "print(\"R2:\", r2)"
   ]
  },
  {
   "cell_type": "markdown",
   "id": "posted-cricket",
   "metadata": {},
   "source": [
    "Overall, we see that the neural network model performs very well with the dataset."
   ]
  }
 ],
 "metadata": {
  "kernelspec": {
   "display_name": "Python 3",
   "language": "python",
   "name": "python3"
  },
  "language_info": {
   "codemirror_mode": {
    "name": "ipython",
    "version": 3
   },
   "file_extension": ".py",
   "mimetype": "text/x-python",
   "name": "python",
   "nbconvert_exporter": "python",
   "pygments_lexer": "ipython3",
   "version": "3.8.7"
  }
 },
 "nbformat": 4,
 "nbformat_minor": 5
}
